{
 "cells": [
  {
   "cell_type": "code",
   "execution_count": 13,
   "metadata": {},
   "outputs": [],
   "source": [
    "import torch \n",
    "import torchvision.datasets as datasets\n",
    "from torch.utils.data import DataLoader,WeightedRandomSampler\n",
    "from torchvision.transforms import transforms\n",
    "import torch.nn as nn\n"
   ]
  },
  {
   "cell_type": "code",
   "execution_count": 47,
   "metadata": {},
   "outputs": [],
   "source": [
    "def get_loader(roo_dir,batch_size):\n",
    "    mytransforms=transforms.Compose([transforms.Resize((500,500)),\n",
    "                                    transforms.ToTensor()])\n",
    "    dataset = datasets.ImageFolder(roo_dir,transform=mytransforms)\n",
    "    classlabel = [1,50]\n",
    "    sample_weight=[0]*len(dataset)\n",
    "    print(dataset)\n",
    "    for idx,(data,label) in enumerate(dataset):\n",
    "        classweight=classlabel[label]\n",
    "        sample_weight[idx]=classweight\n",
    "    sampler = WeightedRandomSampler(sample_weight,num_samples=len(dataset),replacement=True)\n",
    "    loader = DataLoader(dataset,batch_size=batch_size,sampler=sampler)\n",
    "    return loader\n",
    "def main():\n",
    "    loader = get_loader('class/',2)\n",
    "    for (x,y) in loader:\n",
    "        print(y)"
   ]
  },
  {
   "cell_type": "code",
   "execution_count": 48,
   "metadata": {},
   "outputs": [
    {
     "name": "stdout",
     "output_type": "stream",
     "text": [
      "Dataset ImageFolder\n",
      "    Number of datapoints: 7\n",
      "    Root location: class/\n",
      "    StandardTransform\n",
      "Transform: Compose(\n",
      "               Resize(size=(500, 500), interpolation=PIL.Image.BILINEAR)\n",
      "               ToTensor()\n",
      "           )\n",
      "tensor([1, 0])\n",
      "tensor([1, 1])\n",
      "tensor([1, 1])\n",
      "tensor([0])\n"
     ]
    }
   ],
   "source": [
    "if __name__==\"__main__\":\n",
    "    main()"
   ]
  },
  {
   "cell_type": "code",
   "execution_count": null,
   "metadata": {},
   "outputs": [],
   "source": []
  }
 ],
 "metadata": {
  "kernelspec": {
   "display_name": "gpu",
   "language": "python",
   "name": "gpu"
  },
  "language_info": {
   "codemirror_mode": {
    "name": "ipython",
    "version": 3
   },
   "file_extension": ".py",
   "mimetype": "text/x-python",
   "name": "python",
   "nbconvert_exporter": "python",
   "pygments_lexer": "ipython3",
   "version": "3.7.9"
  },
  "varInspector": {
   "cols": {
    "lenName": 16,
    "lenType": 16,
    "lenVar": 40
   },
   "kernels_config": {
    "python": {
     "delete_cmd_postfix": "",
     "delete_cmd_prefix": "del ",
     "library": "var_list.py",
     "varRefreshCmd": "print(var_dic_list())"
    },
    "r": {
     "delete_cmd_postfix": ") ",
     "delete_cmd_prefix": "rm(",
     "library": "var_list.r",
     "varRefreshCmd": "cat(var_dic_list()) "
    }
   },
   "types_to_exclude": [
    "module",
    "function",
    "builtin_function_or_method",
    "instance",
    "_Feature"
   ],
   "window_display": false
  }
 },
 "nbformat": 4,
 "nbformat_minor": 4
}
