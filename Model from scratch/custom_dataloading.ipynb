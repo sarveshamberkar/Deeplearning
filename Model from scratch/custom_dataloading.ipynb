{
 "cells": [
  {
   "cell_type": "code",
   "execution_count": 6,
   "metadata": {},
   "outputs": [],
   "source": [
    "import os\n",
    "import pandas as pd \n",
    "import torch\n",
    "from torch.utils.data import Dataset\n",
    "import PIL \n",
    "from PIL import Image\n",
    "from torch.utils.data import(DataLoader)\n",
    "import torchvision\n",
    "from torchvision.transforms import transforms \n",
    "\n",
    "\n",
    "class CatsAndDogDataset(Dataset):\n",
    "    def __init__(self,csv_file,root_dir,transform=None):\n",
    "        self.annotations = pd.read_csv(csv_file)\n",
    "        self.root_dir=root_dir\n",
    "        self.transform=transform\n",
    "    def __len__(self):\n",
    "        return len(self.annotations)#dummy csv lenght is 6\n",
    "    def __getitem__(self,index):\n",
    "        image_path=os.path.join('D:\\\\anaconda\\\\envs\\\\gpu\\\\tensorflow-gpu-tutorial\\\\pytorch\\\\catanddog',self.annotations.iloc[index,0])\n",
    "        image=Image.open(image_path)\n",
    "        y_label = torch.tensor(int(self.annotations.iloc[index,1]))\n",
    "        if self.transform is not None:\n",
    "            image = self.transform(image)\n",
    "        return [image,y_label]"
   ]
  },
  {
   "cell_type": "code",
   "execution_count": 7,
   "metadata": {},
   "outputs": [],
   "source": [
    "dataset = CatsAndDogDataset(csv_file=os.path.join(os.getcwd(),'catanddog','catsanddog.csv'),root_dir=os.path.join(os.getcwd(),'catanddog'),transform=transforms.ToTensor())"
   ]
  },
  {
   "cell_type": "code",
   "execution_count": 12,
   "metadata": {},
   "outputs": [],
   "source": [
    "train_set, test_set = torch.utils.data.random_split(dataset,[8,4])"
   ]
  },
  {
   "cell_type": "code",
   "execution_count": null,
   "metadata": {},
   "outputs": [],
   "source": []
  }
 ],
 "metadata": {
  "kernelspec": {
   "display_name": "gpu",
   "language": "python",
   "name": "gpu"
  },
  "language_info": {
   "codemirror_mode": {
    "name": "ipython",
    "version": 3
   },
   "file_extension": ".py",
   "mimetype": "text/x-python",
   "name": "python",
   "nbconvert_exporter": "python",
   "pygments_lexer": "ipython3",
   "version": "3.7.9"
  },
  "varInspector": {
   "cols": {
    "lenName": 16,
    "lenType": 16,
    "lenVar": 40
   },
   "kernels_config": {
    "python": {
     "delete_cmd_postfix": "",
     "delete_cmd_prefix": "del ",
     "library": "var_list.py",
     "varRefreshCmd": "print(var_dic_list())"
    },
    "r": {
     "delete_cmd_postfix": ") ",
     "delete_cmd_prefix": "rm(",
     "library": "var_list.r",
     "varRefreshCmd": "cat(var_dic_list()) "
    }
   },
   "types_to_exclude": [
    "module",
    "function",
    "builtin_function_or_method",
    "instance",
    "_Feature"
   ],
   "window_display": false
  }
 },
 "nbformat": 4,
 "nbformat_minor": 4
}
