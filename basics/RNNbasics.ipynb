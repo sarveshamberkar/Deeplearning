{
 "cells": [
  {
   "cell_type": "code",
   "execution_count": null,
   "metadata": {},
   "outputs": [],
   "source": [
    "# Imports\n",
    "import torch\n",
    "import torchvision\n",
    "import torch.nn as nn  # All neural network modules, nn.Linear, nn.Conv2d, BatchNorm, Loss functions\n",
    "import torch.optim as optim  # For all Optimization algorithms, SGD, Adam, etc.\n",
    "import torch.nn.functional as F  # All functions that don't have any parameters\n",
    "from torch.utils.data import (\n",
    "    DataLoader,\n",
    ")  # Gives easier dataset managment and creates mini batches\n",
    "import torchvision.datasets as datasets  # Has standard datasets we can import in a nice way\n",
    "import torchvision.transforms as transforms  # Transformations we can perform on our dataset"
   ]
  },
  {
   "cell_type": "code",
   "execution_count": 32,
   "metadata": {},
   "outputs": [
    {
     "name": "stdout",
     "output_type": "stream",
     "text": [
      "epoch number ........... 0\n",
      "epoch number ........... 1\n",
      "epoch number ........... 2\n",
      "epoch number ........... 3\n",
      "epoch number ........... 4\n",
      "Got59480/60000 with accuracy 99.13\n",
      "Got9873/10000 with accuracy 98.73\n"
     ]
    }
   ],
   "source": [
    "input_size=28\n",
    "hidden_size=256\n",
    "num_classes=10\n",
    "learning_rate=0.001\n",
    "batch_size=64\n",
    "num_epochs=5\n",
    "seq_len=28\n",
    "num_layers=5\n",
    "class RNN(nn.Module):\n",
    "    def __init__(self,input_size,hidden_size,num_layers,num_classes):\n",
    "        super(RNN,self).__init__()\n",
    "        self.hidden_size=hidden_size\n",
    "        self.num_layers=num_layers\n",
    "        self.rnn1=nn.RNN(input_size,hidden_size,num_layers,nonlinearity='relu',batch_first=True)\n",
    "        self.fc= nn.Linear(seq_len*hidden_size,num_classes)\n",
    "    def forward(self,x):\n",
    "        # Set initial hidden and cell states\n",
    "        h0 = torch.zeros(self.num_layers, x.size(0), self.hidden_size).to(device)\n",
    "        \n",
    "\n",
    "        # Forward propagate rnn\n",
    "        out, _ = self.rnn1(x, h0)\n",
    "        out = out.reshape(out.shape[0], -1)\n",
    "        # Decode the hidden state of the last time step\n",
    "        out = self.fc(out)\n",
    "        return out\n",
    "#     def forward(self, x):\n",
    "#         # Set initial hidden and cell states\n",
    "#         h0 = torch.zeros(self.num_layers, x.size(0), self.hidden_size).to(device)\n",
    "\n",
    "#         # Forward propagate LSTM\n",
    "#         out, _ = self.rnn1(x, h0)\n",
    "#         out = out.reshape(out.shape[0], -1)\n",
    "#         # Decode the hidden state of the last time step\n",
    "#         out = self.fc(out)\n",
    "#         return out\n",
    "# set device to cuda\n",
    "device = torch.device('cuda' if torch.cuda.is_available() else 'cpu')\n",
    "# hyperparameters\n",
    "in_channels=1\n",
    "num_classes=10\n",
    "learning_rate=0.001\n",
    "batch_size=64\n",
    "num_epochs=5\n",
    "# Load Data\n",
    "train_dataset = datasets.MNIST(\n",
    "    root=\"/data\", train=True, transform=transforms.ToTensor(), download=True\n",
    ")\n",
    "train_loader = DataLoader(dataset=train_dataset, batch_size=batch_size, shuffle=True)\n",
    "test_dataset = datasets.MNIST(\n",
    "    root=\"/data\", train=False, transform=transforms.ToTensor(), download=True\n",
    ")\n",
    "test_loader = DataLoader(dataset=test_dataset, batch_size=batch_size, shuffle=True)\n",
    "#initialisation of model\n",
    "model = RNN(input_size,hidden_size,num_layers,num_classes).to(device=device)\n",
    "criterion = nn.CrossEntropyLoss()\n",
    "optimizer=optim.Adam(model.parameters(),lr=learning_rate)\n",
    "for epoch in range(num_epochs):\n",
    "    print(f'epoch number ........... {epoch}')\n",
    "    for batch_idx,(data,targets) in enumerate(train_loader):\n",
    "        #         get data to cuda if possible\n",
    "        data = data.to(device=device).squeeze(1)\n",
    "        targets = targets.to(device=device)\n",
    "#         forward pass\n",
    "        scores=model(data)\n",
    "        \n",
    "#         loss calculation\n",
    "        loss=criterion(scores,targets)\n",
    "#         zeroing gradients\n",
    "        optimizer.zero_grad()\n",
    "        loss.backward()\n",
    "        \n",
    "#         gradient descent\n",
    "        optimizer.step()\n",
    "def check_accuracy(loader,model):\n",
    "    num_correct = 0\n",
    "    num_samples = 0\n",
    "    model.eval()\n",
    "    with torch.no_grad():\n",
    "        for x,y in loader:\n",
    "            x = x.to(device=device).squeeze(1)\n",
    "            y = y.to(device=device)\n",
    "            scores=model(x)\n",
    "            a,predictions=scores.max(1)\n",
    "            num_correct +=(predictions == y).sum()\n",
    "            num_samples += predictions.size(0)\n",
    "        print(f'Got{num_correct}/{num_samples} with accuracy {float(num_correct/num_samples)*100:.2f}')\n",
    "    model.train()\n",
    "check_accuracy(train_loader,model)\n",
    "check_accuracy(test_loader,model)\n",
    "        \n",
    "        "
   ]
  },
  {
   "cell_type": "code",
   "execution_count": null,
   "metadata": {},
   "outputs": [],
   "source": []
  },
  {
   "cell_type": "code",
   "execution_count": null,
   "metadata": {},
   "outputs": [],
   "source": []
  }
 ],
 "metadata": {
  "kernelspec": {
   "display_name": "gpu",
   "language": "python",
   "name": "gpu"
  },
  "language_info": {
   "codemirror_mode": {
    "name": "ipython",
    "version": 3
   },
   "file_extension": ".py",
   "mimetype": "text/x-python",
   "name": "python",
   "nbconvert_exporter": "python",
   "pygments_lexer": "ipython3",
   "version": "3.7.9"
  },
  "varInspector": {
   "cols": {
    "lenName": 16,
    "lenType": 16,
    "lenVar": 40
   },
   "kernels_config": {
    "python": {
     "delete_cmd_postfix": "",
     "delete_cmd_prefix": "del ",
     "library": "var_list.py",
     "varRefreshCmd": "print(var_dic_list())"
    },
    "r": {
     "delete_cmd_postfix": ") ",
     "delete_cmd_prefix": "rm(",
     "library": "var_list.r",
     "varRefreshCmd": "cat(var_dic_list()) "
    }
   },
   "types_to_exclude": [
    "module",
    "function",
    "builtin_function_or_method",
    "instance",
    "_Feature"
   ],
   "window_display": false
  }
 },
 "nbformat": 4,
 "nbformat_minor": 4
}
